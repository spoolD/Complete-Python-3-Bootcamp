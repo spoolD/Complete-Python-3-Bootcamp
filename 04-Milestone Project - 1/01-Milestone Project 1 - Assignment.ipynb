{
 "cells": [
  {
   "cell_type": "markdown",
   "metadata": {},
   "source": [
    "___\n",
    "\n",
    "<a href='https://www.udemy.com/user/joseportilla/'><img src='../Pierian_Data_Logo.png'/></a>\n",
    "___\n",
    "<center><em>Content Copyright by Pierian Data</em></center>"
   ]
  },
  {
   "cell_type": "markdown",
   "metadata": {},
   "source": [
    "# Milestone Project 1\n",
    "## Congratulations on making it to your first milestone!\n",
    "You've already learned a ton and are ready to work on a real project.\n",
    "\n",
    "Your assignment: Create a Tic Tac Toe game. You are free to use any IDE you like.\n",
    "\n",
    "Here are the requirements:\n",
    "\n",
    "* 2 players should be able to play the game (both sitting at the same computer)\n",
    "* The board should be printed out every time a player makes a move\n",
    "* You should be able to accept input of the player position and then place a symbol on the board\n",
    "\n",
    "Feel free to use Google to help you figure anything out (but don't just Google \"Tic Tac Toe in Python\" otherwise you won't learn anything!) Keep in mind that this project can take anywhere between several hours to several days.\n",
    "\n",
    "There are 4 Jupyter Notebooks related to this assignment:\n",
    "\n",
    "* This Assignment Notebook\n",
    "* A \"Walkthrough Steps Workbook\" Notebook\n",
    "* A \"Complete Walkthrough Solution\" Notebook\n",
    "* An \"Advanced Solution\" Notebook\n",
    "\n",
    "I encourage you to just try to start the project on your own without referencing any of the notebooks. If you get stuck, check out the next lecture which is a text lecture with helpful hints and steps. If you're still stuck after that, then check out the Walkthrough Steps Workbook, which breaks up the project in steps for you to solve. Still stuck? Then check out the Complete Walkthrough Solution video for more help on approaching the project!"
   ]
  },
  {
   "cell_type": "markdown",
   "metadata": {},
   "source": [
    "There are parts of this that will be a struggle...and that is good! I have complete faith that if you have made it this far through the course you have all the tools and knowledge to tackle this project. Remember, it's totally open book, so take your time, do a little research, and remember:\n",
    "\n",
    "## HAVE FUN!"
   ]
  },
  {
   "cell_type": "code",
   "execution_count": 44,
   "metadata": {},
   "outputs": [],
   "source": [
    "#Initialize player marker positions (consistent with a number pad)\n",
    "board = [' '] * 10 #zero will be dummy position to make indexing easier"
   ]
  },
  {
   "cell_type": "code",
   "execution_count": 45,
   "metadata": {},
   "outputs": [],
   "source": [
    "from IPython.display import clear_output\n",
    "def display_board(board):\n",
    "    clear_output()\n",
    "    print(f' {board[7]} | {board[8]} | {board[9]}  ')\n",
    "    print('___________')\n",
    "    print(f' {board[4]} | {board[5]} | {board[6]}  ')\n",
    "    print('___________')\n",
    "    print(f' {board[1]} | {board[2]} | {board[3]}  ')"
   ]
  },
  {
   "cell_type": "code",
   "execution_count": 46,
   "metadata": {},
   "outputs": [],
   "source": [
    "def player_move(mark,board):\n",
    "    check = True\n",
    "    while check:\n",
    "        play = input(f' {mark}, where would you like to place your mark? Use number pad (1-9) ')\n",
    "        \n",
    "        if board[int(play)] == ' ':\n",
    "            check = False\n",
    "        \n",
    "    board[int(play)] = mark\n",
    "    return board"
   ]
  },
  {
   "cell_type": "code",
   "execution_count": 47,
   "metadata": {},
   "outputs": [],
   "source": [
    "def check_outcome(board, mark):\n",
    "    #check for win\n",
    "    check_winners= [False]*8\n",
    "    check_winners[0] = board[7]==board[8]==board[9]==mark\n",
    "    check_winners[1] = board[4]==board[5]==board[6]==mark\n",
    "    check_winners[2] = board[1]==board[2]==board[3]==mark\n",
    "    check_winners[3] = board[7]==board[4]==board[1]==mark\n",
    "    check_winners[4] = board[8]==board[5]==board[2]==mark\n",
    "    check_winners[5] = board[9]==board[6]==board[3]==mark\n",
    "    check_winners[6] = board[7]==board[5]==board[3]==mark\n",
    "    check_winners[7] = board[1]==board[5]==board[9]==mark\n",
    "    \n",
    "    if True in check_winners:\n",
    "        outcome = 'winner'\n",
    "        return outcome\n",
    "    # check for tie\n",
    "    elif ' ' not in board[1:]:\n",
    "        outcome = 'tie'\n",
    "        return outcome\n",
    "    else:\n",
    "        outcome = 'continue'\n",
    "        return outcome"
   ]
  },
  {
   "cell_type": "code",
   "execution_count": 48,
   "metadata": {},
   "outputs": [],
   "source": [
    "def get_players():\n",
    "    players = ['','']\n",
    "\n",
    "    while players[0] not in ['X','O']:\n",
    "        players[0] = input('Player 1, select which mark to use (X or O): ').upper()\n",
    "\n",
    "    if players[0] == 'X':\n",
    "        players[1] = 'O'\n",
    "    else:\n",
    "        players[1] = 'X'\n",
    "\n",
    "    return players"
   ]
  },
  {
   "cell_type": "code",
   "execution_count": 49,
   "metadata": {},
   "outputs": [],
   "source": [
    "def turn(player,board):\n",
    "\n",
    "    #Update board with player marker\n",
    "    updated_board = player_move(player,board)\n",
    "    \n",
    "    #Check for winner/tie/continue\n",
    "    outcome = check_outcome(updated_board,player)\n",
    "    \n",
    "    #Return board\n",
    "    clear_output()\n",
    "    display_board(updated_board)\n",
    "    \n",
    "    return outcome"
   ]
  },
  {
   "cell_type": "code",
   "execution_count": 50,
   "metadata": {},
   "outputs": [
    {
     "name": "stdout",
     "output_type": "stream",
     "text": [
      "Thanks for playing\n"
     ]
    }
   ],
   "source": [
    "continue_playing = True\n",
    "\n",
    "# while loop to handle multiple games\n",
    "while continue_playing == True:\n",
    "    print('Welcome to Tic Tac Toe')\n",
    "    \n",
    "    #Define player markings\n",
    "    players = get_players()\n",
    "    \n",
    "    # Initial board display\n",
    "    clear_output()\n",
    "    display_board(board)\n",
    "    \n",
    "    # Game\n",
    "    outcome = 'continue'\n",
    "    order = 0 # Handles alternating order, player 1 always plays first\n",
    "    while outcome == 'continue':\n",
    "        outcome = turn(players[order],board)\n",
    "        if order == 0:\n",
    "            order = 1\n",
    "        else:\n",
    "            order = 0\n",
    "            \n",
    "    if outcome == 'winner':\n",
    "        print('\\n WINNER!!!!!!!!!!!!')\n",
    "    else:\n",
    "        print('TIE')\n",
    "        \n",
    "    cont = False\n",
    "    while cont == False:\n",
    "        cont = input('Would you like to play again (Y/N)? ').upper()\n",
    "    \n",
    "    if cont == 'N':\n",
    "        continue_playing = False\n",
    "        clear_output()\n",
    "        print('Thanks for playing')\n",
    "    else:\n",
    "        board = [' '] * 10\n",
    "        clear_output()\n",
    "        pass\n",
    "    "
   ]
  },
  {
   "cell_type": "code",
   "execution_count": null,
   "metadata": {},
   "outputs": [],
   "source": []
  }
 ],
 "metadata": {
  "kernelspec": {
   "display_name": "Python 3 (ipykernel)",
   "language": "python",
   "name": "python3"
  },
  "language_info": {
   "codemirror_mode": {
    "name": "ipython",
    "version": 3
   },
   "file_extension": ".py",
   "mimetype": "text/x-python",
   "name": "python",
   "nbconvert_exporter": "python",
   "pygments_lexer": "ipython3",
   "version": "3.9.7"
  }
 },
 "nbformat": 4,
 "nbformat_minor": 1
}
