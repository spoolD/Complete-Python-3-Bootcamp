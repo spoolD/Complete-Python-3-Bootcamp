{
 "cells": [
  {
   "cell_type": "markdown",
   "id": "c6dc3c57",
   "metadata": {},
   "source": [
    "<b> Code takes in a series of images and converts them into gif or vice versa"
   ]
  },
  {
   "cell_type": "code",
   "execution_count": 8,
   "id": "09c9e4c6",
   "metadata": {},
   "outputs": [],
   "source": [
    "#import modules\n",
    "from PIL import , GIFImagePlugin\n",
    "import glob"
   ]
  },
  {
   "cell_type": "code",
   "execution_count": 46,
   "id": "8d96abc8",
   "metadata": {},
   "outputs": [],
   "source": [
    "def make_gif(folder):\n",
    "    '''\n",
    "    Function takes a series of jpg images and coverts them into a gif\n",
    "    '''\n",
    "    image_lst = []\n",
    "    for image in glob.glob(f'{folder}/*.jpeg'):\n",
    "        frame = Image.open(image)\n",
    "        image_lst.append(frame)\n",
    "       \n",
    "    image_lst[0].save('generated.gif',save_all=True, append_images=image_lst, duration=250, loop=0)"
   ]
  },
  {
   "cell_type": "code",
   "execution_count": 50,
   "id": "89e58566",
   "metadata": {},
   "outputs": [],
   "source": [
    "#Test make_gif\n",
    "make_gif('frames')"
   ]
  },
  {
   "cell_type": "code",
   "execution_count": 51,
   "id": "00f42755",
   "metadata": {},
   "outputs": [],
   "source": [
    "def gif_extract(gif,num_frames):\n",
    "    '''\n",
    "    Function takes a gif and converts it into still frames\n",
    "    '''\n",
    "    im = Image.open(gif) \n",
    "    for frame in range(num_frames):\n",
    "        im.seek(im.n_frames // num_frames * frame)\n",
    "        im.save(f'{frame}.png')\n",
    "        \n",
    "    im.close()"
   ]
  },
  {
   "cell_type": "code",
   "execution_count": 52,
   "id": "d431fbad",
   "metadata": {},
   "outputs": [],
   "source": [
    "#Test gif_extract\n",
    "gif_extract('tiger_swing.gif',10)"
   ]
  },
  {
   "cell_type": "code",
   "execution_count": null,
   "id": "ae88f345",
   "metadata": {},
   "outputs": [],
   "source": []
  }
 ],
 "metadata": {
  "kernelspec": {
   "display_name": "Python 3 (ipykernel)",
   "language": "python",
   "name": "python3"
  },
  "language_info": {
   "codemirror_mode": {
    "name": "ipython",
    "version": 3
   },
   "file_extension": ".py",
   "mimetype": "text/x-python",
   "name": "python",
   "nbconvert_exporter": "python",
   "pygments_lexer": "ipython3",
   "version": "3.9.7"
  }
 },
 "nbformat": 4,
 "nbformat_minor": 5
}
